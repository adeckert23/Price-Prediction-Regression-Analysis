{
 "cells": [
  {
   "cell_type": "code",
   "execution_count": 2,
   "metadata": {},
   "outputs": [],
   "source": [
    "import pandas as pd\n",
    "import numpy as np\n",
    "import matplotlib.pyplot as plt\n",
    "from class_features import Features\n",
    "from class_models import Linear, GLM\n",
    "import scipy.stats as scs"
   ]
  },
  {
   "cell_type": "code",
   "execution_count": 3,
   "metadata": {},
   "outputs": [],
   "source": [
    "metadata = pd.read_excel('data/Data Dictionary.xlsx')\n",
    "Train = pd.read_csv('data/Train.csv',low_memory=False)\n",
    "Test = pd.read_csv('data/Test.csv')"
   ]
  },
  {
   "cell_type": "code",
   "execution_count": 4,
   "metadata": {},
   "outputs": [
    {
     "data": {
      "text/plain": [
       "Text(0.5, 1.0, 'Log of Sale Price')"
      ]
     },
     "execution_count": 4,
     "metadata": {},
     "output_type": "execute_result"
    },
    {
     "data": {
      "image/png": "[encoded data removed]",
      "text/plain": [
       "<Figure size 432x288 with 2 Axes>"
      ]
     },
     "metadata": {
      "needs_background": "light"
     },
     "output_type": "display_data"
    }
   ],
   "source": [
    "#Target variable histograms\n",
    "fig, axs=plt.subplots(1,2)\n",
    "axs[0].hist(Train['SalePrice'])\n",
    "axs[0].set_title('Sale Price')\n",
    "axs[1].hist(np.log(Train['SalePrice']))\n",
    "axs[1].set_title('Log of Sale Price')"
   ]
  },
  {
   "cell_type": "markdown",
   "metadata": {},
   "source": [
    "We noticed by graphing the Sale Price, that this is a skewed distribution, so by taking the log of the sale price, we can see it makes our distribution normal, more on this after the next graph"
   ]
  },
  {
   "cell_type": "code",
   "execution_count": 5,
   "metadata": {},
   "outputs": [],
   "source": [
    "#Features\n",
    "X=Features().features_clean(Train)\n",
    "y = Train['SalePrice']"
   ]
  },
  {
   "cell_type": "code",
   "execution_count": 6,
   "metadata": {},
   "outputs": [],
   "source": [
    "#Linear model with log transformed target variable\n",
    "linear = Linear(X,np.log(y))"
   ]
  },
  {
   "cell_type": "code",
   "execution_count": 7,
   "metadata": {},
   "outputs": [
    {
     "data": {
      "text/plain": [
       "0.17123040418401134"
      ]
     },
     "execution_count": 7,
     "metadata": {},
     "output_type": "execute_result"
    }
   ],
   "source": [
    "linear.cv_mse(5)"
   ]
  },
  {
   "cell_type": "code",
   "execution_count": 8,
   "metadata": {},
   "outputs": [
    {
     "data": {
      "image/png": "[encoded data removed]",
      "text/plain": [
       "<Figure size 432x288 with 1 Axes>"
      ]
     },
     "metadata": {
      "needs_background": "light"
     },
     "output_type": "display_data"
    }
   ],
   "source": [
    "linear.resid_scatter(X,np.log(y))"
   ]
  },
  {
   "cell_type": "markdown",
   "metadata": {},
   "source": [
    "We can see the spread of the residuals changes with the values of the\n",
    "dependent variable (heteroscedasticity).  We are taking the log of the \n",
    "target variable to remove the change in spread."
   ]
  },
  {
   "cell_type": "markdown",
   "metadata": {},
   "source": [
    "We see our linear model summary below, the R-Squared is .689, not bad for fitting our first model"
   ]
  },
  {
   "cell_type": "code",
   "execution_count": 9,
   "metadata": {
    "scrolled": false
   },
   "outputs": [
    {
     "data": {
      "text/html": [
       "<table class=\"simpletable\">\n",
       "<caption>OLS Regression Results</caption>\n",
       "<tr>\n",
       "  <th>Dep. Variable:</th>        <td>SalePrice</td>    <th>  R-squared:         </th>  <td>   0.689</td>  \n",
       "</tr>\n",
       "<tr>\n",
       "  <th>Model:</th>                   <td>OLS</td>       <th>  Adj. R-squared:    </th>  <td>   0.689</td>  \n",
       "</tr>\n",
       "<tr>\n",
       "  <th>Method:</th>             <td>Least Squares</td>  <th>  F-statistic:       </th>  <td>1.739e+04</td> \n",
       "</tr>\n",
       "<tr>\n",
       "  <th>Date:</th>             <td>Mon, 04 Mar 2019</td> <th>  Prob (F-statistic):</th>   <td>  0.00</td>   \n",
       "</tr>\n",
       "<tr>\n",
       "  <th>Time:</th>                 <td>16:27:44</td>     <th>  Log-Likelihood:    </th> <td>-1.8843e+05</td>\n",
       "</tr>\n",
       "<tr>\n",
       "  <th>No. Observations:</th>      <td>401125</td>      <th>  AIC:               </th>  <td>3.770e+05</td> \n",
       "</tr>\n",
       "<tr>\n",
       "  <th>Df Residuals:</th>          <td>401073</td>      <th>  BIC:               </th>  <td>3.775e+05</td> \n",
       "</tr>\n",
       "<tr>\n",
       "  <th>Df Model:</th>              <td>    51</td>      <th>                     </th>      <td> </td>     \n",
       "</tr>\n",
       "<tr>\n",
       "  <th>Covariance Type:</th>      <td>nonrobust</td>    <th>                     </th>      <td> </td>     \n",
       "</tr>\n",
       "</table>\n",
       "<table class=\"simpletable\">\n",
       "<tr>\n",
       "                <td></td>                  <th>coef</th>     <th>std err</th>      <th>t</th>      <th>P>|t|</th>  <th>[0.025</th>    <th>0.975]</th>  \n",
       "</tr>\n",
       "<tr>\n",
       "  <th>const</th>                        <td>   10.5743</td> <td>    0.021</td> <td>  498.357</td> <td> 0.000</td> <td>   10.533</td> <td>   10.616</td>\n",
       "</tr>\n",
       "<tr>\n",
       "  <th>Conventional</th>                 <td>   -0.0727</td> <td>    0.004</td> <td>  -16.542</td> <td> 0.000</td> <td>   -0.081</td> <td>   -0.064</td>\n",
       "</tr>\n",
       "<tr>\n",
       "  <th>PAT</th>                          <td>   -0.2235</td> <td>    0.004</td> <td>  -54.073</td> <td> 0.000</td> <td>   -0.232</td> <td>   -0.215</td>\n",
       "</tr>\n",
       "<tr>\n",
       "  <th>None or Unspecified</th>          <td>   -0.2061</td> <td>    0.005</td> <td>  -43.019</td> <td> 0.000</td> <td>   -0.215</td> <td>   -0.197</td>\n",
       "</tr>\n",
       "<tr>\n",
       "  <th>Straight</th>                     <td>   -0.1179</td> <td>    0.004</td> <td>  -26.441</td> <td> 0.000</td> <td>   -0.127</td> <td>   -0.109</td>\n",
       "</tr>\n",
       "<tr>\n",
       "  <th>Rubber</th>                       <td>    0.8237</td> <td>    0.010</td> <td>   80.445</td> <td> 0.000</td> <td>    0.804</td> <td>    0.844</td>\n",
       "</tr>\n",
       "<tr>\n",
       "  <th>Steel</th>                        <td>    0.9547</td> <td>    0.009</td> <td>  101.197</td> <td> 0.000</td> <td>    0.936</td> <td>    0.973</td>\n",
       "</tr>\n",
       "<tr>\n",
       "  <th>20.5</th>                         <td>   -0.0295</td> <td>    0.004</td> <td>   -8.113</td> <td> 0.000</td> <td>   -0.037</td> <td>   -0.022</td>\n",
       "</tr>\n",
       "<tr>\n",
       "  <th>Standard</th>                     <td>    0.1119</td> <td>    0.003</td> <td>   36.268</td> <td> 0.000</td> <td>    0.106</td> <td>    0.118</td>\n",
       "</tr>\n",
       "<tr>\n",
       "  <th>Extended</th>                     <td>   -0.5457</td> <td>    0.387</td> <td>   -1.410</td> <td> 0.159</td> <td>   -1.304</td> <td>    0.213</td>\n",
       "</tr>\n",
       "<tr>\n",
       "  <th>Standard</th>                     <td>   -0.6106</td> <td>    0.387</td> <td>   -1.577</td> <td> 0.115</td> <td>   -1.369</td> <td>    0.148</td>\n",
       "</tr>\n",
       "<tr>\n",
       "  <th>All Wheel Drive</th>              <td>    1.0899</td> <td>    0.021</td> <td>   52.948</td> <td> 0.000</td> <td>    1.050</td> <td>    1.130</td>\n",
       "</tr>\n",
       "<tr>\n",
       "  <th>Four Wheel Drive</th>             <td>    0.4551</td> <td>    0.387</td> <td>    1.175</td> <td> 0.240</td> <td>   -0.304</td> <td>    1.214</td>\n",
       "</tr>\n",
       "<tr>\n",
       "  <th>No</th>                           <td>    1.1295</td> <td>    0.016</td> <td>   69.641</td> <td> 0.000</td> <td>    1.098</td> <td>    1.161</td>\n",
       "</tr>\n",
       "<tr>\n",
       "  <th>Two Wheel Drive</th>              <td>    0.2854</td> <td>    0.387</td> <td>    0.737</td> <td> 0.461</td> <td>   -0.474</td> <td>    1.044</td>\n",
       "</tr>\n",
       "<tr>\n",
       "  <th>product_class_Backhoe_Loader</th> <td>    0.0943</td> <td>    0.003</td> <td>   31.208</td> <td> 0.000</td> <td>    0.088</td> <td>    0.100</td>\n",
       "</tr>\n",
       "<tr>\n",
       "  <th>Compact</th>                      <td>   -0.4870</td> <td>    0.006</td> <td>  -87.908</td> <td> 0.000</td> <td>   -0.498</td> <td>   -0.476</td>\n",
       "</tr>\n",
       "<tr>\n",
       "  <th>Large</th>                        <td>    0.5957</td> <td>    0.004</td> <td>  156.719</td> <td> 0.000</td> <td>    0.588</td> <td>    0.603</td>\n",
       "</tr>\n",
       "<tr>\n",
       "  <th>Large / Medium</th>               <td>    0.3196</td> <td>    0.009</td> <td>   34.378</td> <td> 0.000</td> <td>    0.301</td> <td>    0.338</td>\n",
       "</tr>\n",
       "<tr>\n",
       "  <th>Medium</th>                       <td>    0.4399</td> <td>    0.002</td> <td>  176.663</td> <td> 0.000</td> <td>    0.435</td> <td>    0.445</td>\n",
       "</tr>\n",
       "<tr>\n",
       "  <th>Mini</th>                         <td>   -0.6867</td> <td>    0.010</td> <td>  -71.223</td> <td> 0.000</td> <td>   -0.706</td> <td>   -0.668</td>\n",
       "</tr>\n",
       "<tr>\n",
       "  <th>Small</th>                        <td>   -0.0154</td> <td>    0.009</td> <td>   -1.637</td> <td> 0.102</td> <td>   -0.034</td> <td>    0.003</td>\n",
       "</tr>\n",
       "<tr>\n",
       "  <th>Tennessee</th>                    <td>    0.0077</td> <td>    0.004</td> <td>    1.913</td> <td> 0.056</td> <td>   -0.000</td> <td>    0.016</td>\n",
       "</tr>\n",
       "<tr>\n",
       "  <th>Pennsylvania</th>                 <td>   -0.0534</td> <td>    0.004</td> <td>  -13.087</td> <td> 0.000</td> <td>   -0.061</td> <td>   -0.045</td>\n",
       "</tr>\n",
       "<tr>\n",
       "  <th>South Carolina</th>               <td>   -0.0089</td> <td>    0.004</td> <td>   -2.174</td> <td> 0.030</td> <td>   -0.017</td> <td>   -0.001</td>\n",
       "</tr>\n",
       "<tr>\n",
       "  <th>Illinois</th>                     <td>    0.0345</td> <td>    0.004</td> <td>    8.974</td> <td> 0.000</td> <td>    0.027</td> <td>    0.042</td>\n",
       "</tr>\n",
       "<tr>\n",
       "  <th>New Jersey</th>                   <td>    0.0514</td> <td>    0.004</td> <td>   13.158</td> <td> 0.000</td> <td>    0.044</td> <td>    0.059</td>\n",
       "</tr>\n",
       "<tr>\n",
       "  <th>North Carolina</th>               <td>   -0.0164</td> <td>    0.004</td> <td>   -4.133</td> <td> 0.000</td> <td>   -0.024</td> <td>   -0.009</td>\n",
       "</tr>\n",
       "<tr>\n",
       "  <th>Mississippi</th>                  <td>    0.0159</td> <td>    0.004</td> <td>    4.400</td> <td> 0.000</td> <td>    0.009</td> <td>    0.023</td>\n",
       "</tr>\n",
       "<tr>\n",
       "  <th>Ohio</th>                         <td>    0.0150</td> <td>    0.004</td> <td>    4.044</td> <td> 0.000</td> <td>    0.008</td> <td>    0.022</td>\n",
       "</tr>\n",
       "<tr>\n",
       "  <th>Colorado</th>                     <td>    0.0345</td> <td>    0.004</td> <td>    8.972</td> <td> 0.000</td> <td>    0.027</td> <td>    0.042</td>\n",
       "</tr>\n",
       "<tr>\n",
       "  <th>Washington</th>                   <td>    0.0029</td> <td>    0.003</td> <td>    0.896</td> <td> 0.370</td> <td>   -0.004</td> <td>    0.009</td>\n",
       "</tr>\n",
       "<tr>\n",
       "  <th>Georgia</th>                      <td>   -0.0326</td> <td>    0.003</td> <td>   -9.424</td> <td> 0.000</td> <td>   -0.039</td> <td>   -0.026</td>\n",
       "</tr>\n",
       "<tr>\n",
       "  <th>Maryland</th>                     <td>   -0.0424</td> <td>    0.004</td> <td>  -11.804</td> <td> 0.000</td> <td>   -0.049</td> <td>   -0.035</td>\n",
       "</tr>\n",
       "<tr>\n",
       "  <th>Florida</th>                      <td>    0.0707</td> <td>    0.002</td> <td>   36.389</td> <td> 0.000</td> <td>    0.067</td> <td>    0.075</td>\n",
       "</tr>\n",
       "<tr>\n",
       "  <th>Texas</th>                        <td>    0.0335</td> <td>    0.002</td> <td>   16.158</td> <td> 0.000</td> <td>    0.029</td> <td>    0.038</td>\n",
       "</tr>\n",
       "<tr>\n",
       "  <th>California</th>                   <td>    0.0352</td> <td>    0.003</td> <td>   13.596</td> <td> 0.000</td> <td>    0.030</td> <td>    0.040</td>\n",
       "</tr>\n",
       "<tr>\n",
       "  <th>EROPS w AC</th>                   <td>    0.2050</td> <td>    0.024</td> <td>    8.693</td> <td> 0.000</td> <td>    0.159</td> <td>    0.251</td>\n",
       "</tr>\n",
       "<tr>\n",
       "  <th>OROPS</th>                        <td>   -0.1727</td> <td>    0.024</td> <td>   -7.315</td> <td> 0.000</td> <td>   -0.219</td> <td>   -0.126</td>\n",
       "</tr>\n",
       "<tr>\n",
       "  <th>EROPS</th>                        <td>   -0.0408</td> <td>    0.024</td> <td>   -1.728</td> <td> 0.084</td> <td>   -0.087</td> <td>    0.005</td>\n",
       "</tr>\n",
       "<tr>\n",
       "  <th>2 Valve</th>                      <td>    0.3072</td> <td>    0.012</td> <td>   25.993</td> <td> 0.000</td> <td>    0.284</td> <td>    0.330</td>\n",
       "</tr>\n",
       "<tr>\n",
       "  <th>Standard</th>                     <td>   -0.7475</td> <td>    0.012</td> <td>  -64.296</td> <td> 0.000</td> <td>   -0.770</td> <td>   -0.725</td>\n",
       "</tr>\n",
       "<tr>\n",
       "  <th>Auxiliary</th>                    <td>   -0.7616</td> <td>    0.012</td> <td>  -65.080</td> <td> 0.000</td> <td>   -0.785</td> <td>   -0.739</td>\n",
       "</tr>\n",
       "<tr>\n",
       "  <th>Base + 1 Function</th>            <td>   -0.3199</td> <td>    0.014</td> <td>  -23.247</td> <td> 0.000</td> <td>   -0.347</td> <td>   -0.293</td>\n",
       "</tr>\n",
       "<tr>\n",
       "  <th>3 Valve</th>                      <td>    0.4008</td> <td>    0.013</td> <td>   31.121</td> <td> 0.000</td> <td>    0.376</td> <td>    0.426</td>\n",
       "</tr>\n",
       "<tr>\n",
       "  <th>4 Valve</th>                      <td>    0.3943</td> <td>    0.014</td> <td>   29.108</td> <td> 0.000</td> <td>    0.368</td> <td>    0.421</td>\n",
       "</tr>\n",
       "<tr>\n",
       "  <th>High</th>                         <td>    0.0594</td> <td>    0.004</td> <td>   15.983</td> <td> 0.000</td> <td>    0.052</td> <td>    0.067</td>\n",
       "</tr>\n",
       "<tr>\n",
       "  <th>Low</th>                          <td>    0.0098</td> <td>    0.003</td> <td>    3.642</td> <td> 0.000</td> <td>    0.005</td> <td>    0.015</td>\n",
       "</tr>\n",
       "<tr>\n",
       "  <th>Medium</th>                       <td>    0.0738</td> <td>    0.002</td> <td>   31.552</td> <td> 0.000</td> <td>    0.069</td> <td>    0.078</td>\n",
       "</tr>\n",
       "<tr>\n",
       "  <th>Age</th>                          <td>   -0.0726</td> <td>    0.000</td> <td> -332.627</td> <td> 0.000</td> <td>   -0.073</td> <td>   -0.072</td>\n",
       "</tr>\n",
       "<tr>\n",
       "  <th>Age_sq</th>                       <td>    0.0008</td> <td> 5.55e-06</td> <td>  150.194</td> <td> 0.000</td> <td>    0.001</td> <td>    0.001</td>\n",
       "</tr>\n",
       "<tr>\n",
       "  <th>machine_hrs</th>                  <td>   -0.0233</td> <td>    0.002</td> <td>  -13.915</td> <td> 0.000</td> <td>   -0.027</td> <td>   -0.020</td>\n",
       "</tr>\n",
       "</table>\n",
       "<table class=\"simpletable\">\n",
       "<tr>\n",
       "  <th>Omnibus:</th>       <td>17649.715</td> <th>  Durbin-Watson:     </th> <td>   1.094</td> \n",
       "</tr>\n",
       "<tr>\n",
       "  <th>Prob(Omnibus):</th>  <td> 0.000</td>   <th>  Jarque-Bera (JB):  </th> <td>29655.637</td>\n",
       "</tr>\n",
       "<tr>\n",
       "  <th>Skew:</th>           <td>-0.375</td>   <th>  Prob(JB):          </th> <td>    0.00</td> \n",
       "</tr>\n",
       "<tr>\n",
       "  <th>Kurtosis:</th>       <td> 4.101</td>   <th>  Cond. No.          </th> <td>3.94e+05</td> \n",
       "</tr>\n",
       "</table><br/><br/>Warnings:<br/>[1] Standard Errors assume that the covariance matrix of the errors is correctly specified.<br/>[2] The condition number is large, 3.94e+05. This might indicate that there are<br/>strong multicollinearity or other numerical problems."
      ],
      "text/plain": [
       "<class 'statsmodels.iolib.summary.Summary'>\n",
       "\"\"\"\n",
       "                            OLS Regression Results                            \n",
       "==============================================================================\n",
       "Dep. Variable:              SalePrice   R-squared:                       0.689\n",
       "Model:                            OLS   Adj. R-squared:                  0.689\n",
       "Method:                 Least Squares   F-statistic:                 1.739e+04\n",
       "Date:                Mon, 04 Mar 2019   Prob (F-statistic):               0.00\n",
       "Time:                        16:27:44   Log-Likelihood:            -1.8843e+05\n",
       "No. Observations:              401125   AIC:                         3.770e+05\n",
       "Df Residuals:                  401073   BIC:                         3.775e+05\n",
       "Df Model:                          51                                         \n",
       "Covariance Type:            nonrobust                                         \n",
       "================================================================================================\n",
       "                                   coef    std err          t      P>|t|      [0.025      0.975]\n",
       "------------------------------------------------------------------------------------------------\n",
       "const                           10.5743      0.021    498.357      0.000      10.533      10.616\n",
       "Conventional                    -0.0727      0.004    -16.542      0.000      -0.081      -0.064\n",
       "PAT                             -0.2235      0.004    -54.073      0.000      -0.232      -0.215\n",
       "None or Unspecified             -0.2061      0.005    -43.019      0.000      -0.215      -0.197\n",
       "Straight                        -0.1179      0.004    -26.441      0.000      -0.127      -0.109\n",
       "Rubber                           0.8237      0.010     80.445      0.000       0.804       0.844\n",
       "Steel                            0.9547      0.009    101.197      0.000       0.936       0.973\n",
       "20.5                            -0.0295      0.004     -8.113      0.000      -0.037      -0.022\n",
       "Standard                         0.1119      0.003     36.268      0.000       0.106       0.118\n",
       "Extended                        -0.5457      0.387     -1.410      0.159      -1.304       0.213\n",
       "Standard                        -0.6106      0.387     -1.577      0.115      -1.369       0.148\n",
       "All Wheel Drive                  1.0899      0.021     52.948      0.000       1.050       1.130\n",
       "Four Wheel Drive                 0.4551      0.387      1.175      0.240      -0.304       1.214\n",
       "No                               1.1295      0.016     69.641      0.000       1.098       1.161\n",
       "Two Wheel Drive                  0.2854      0.387      0.737      0.461      -0.474       1.044\n",
       "product_class_Backhoe_Loader     0.0943      0.003     31.208      0.000       0.088       0.100\n",
       "Compact                         -0.4870      0.006    -87.908      0.000      -0.498      -0.476\n",
       "Large                            0.5957      0.004    156.719      0.000       0.588       0.603\n",
       "Large / Medium                   0.3196      0.009     34.378      0.000       0.301       0.338\n",
       "Medium                           0.4399      0.002    176.663      0.000       0.435       0.445\n",
       "Mini                            -0.6867      0.010    -71.223      0.000      -0.706      -0.668\n",
       "Small                           -0.0154      0.009     -1.637      0.102      -0.034       0.003\n",
       "Tennessee                        0.0077      0.004      1.913      0.056      -0.000       0.016\n",
       "Pennsylvania                    -0.0534      0.004    -13.087      0.000      -0.061      -0.045\n",
       "South Carolina                  -0.0089      0.004     -2.174      0.030      -0.017      -0.001\n",
       "Illinois                         0.0345      0.004      8.974      0.000       0.027       0.042\n",
       "New Jersey                       0.0514      0.004     13.158      0.000       0.044       0.059\n",
       "North Carolina                  -0.0164      0.004     -4.133      0.000      -0.024      -0.009\n",
       "Mississippi                      0.0159      0.004      4.400      0.000       0.009       0.023\n",
       "Ohio                             0.0150      0.004      4.044      0.000       0.008       0.022\n",
       "Colorado                         0.0345      0.004      8.972      0.000       0.027       0.042\n",
       "Washington                       0.0029      0.003      0.896      0.370      -0.004       0.009\n",
       "Georgia                         -0.0326      0.003     -9.424      0.000      -0.039      -0.026\n",
       "Maryland                        -0.0424      0.004    -11.804      0.000      -0.049      -0.035\n",
       "Florida                          0.0707      0.002     36.389      0.000       0.067       0.075\n",
       "Texas                            0.0335      0.002     16.158      0.000       0.029       0.038\n",
       "California                       0.0352      0.003     13.596      0.000       0.030       0.040\n",
       "EROPS w AC                       0.2050      0.024      8.693      0.000       0.159       0.251\n",
       "OROPS                           -0.1727      0.024     -7.315      0.000      -0.219      -0.126\n",
       "EROPS                           -0.0408      0.024     -1.728      0.084      -0.087       0.005\n",
       "2 Valve                          0.3072      0.012     25.993      0.000       0.284       0.330\n",
       "Standard                        -0.7475      0.012    -64.296      0.000      -0.770      -0.725\n",
       "Auxiliary                       -0.7616      0.012    -65.080      0.000      -0.785      -0.739\n",
       "Base + 1 Function               -0.3199      0.014    -23.247      0.000      -0.347      -0.293\n",
       "3 Valve                          0.4008      0.013     31.121      0.000       0.376       0.426\n",
       "4 Valve                          0.3943      0.014     29.108      0.000       0.368       0.421\n",
       "High                             0.0594      0.004     15.983      0.000       0.052       0.067\n",
       "Low                              0.0098      0.003      3.642      0.000       0.005       0.015\n",
       "Medium                           0.0738      0.002     31.552      0.000       0.069       0.078\n",
       "Age                             -0.0726      0.000   -332.627      0.000      -0.073      -0.072\n",
       "Age_sq                           0.0008   5.55e-06    150.194      0.000       0.001       0.001\n",
       "machine_hrs                     -0.0233      0.002    -13.915      0.000      -0.027      -0.020\n",
       "==============================================================================\n",
       "Omnibus:                    17649.715   Durbin-Watson:                   1.094\n",
       "Prob(Omnibus):                  0.000   Jarque-Bera (JB):            29655.637\n",
       "Skew:                          -0.375   Prob(JB):                         0.00\n",
       "Kurtosis:                       4.101   Cond. No.                     3.94e+05\n",
       "==============================================================================\n",
       "\n",
       "Warnings:\n",
       "[1] Standard Errors assume that the covariance matrix of the errors is correctly specified.\n",
       "[2] The condition number is large, 3.94e+05. This might indicate that there are\n",
       "strong multicollinearity or other numerical problems.\n",
       "\"\"\""
      ]
     },
     "execution_count": 9,
     "metadata": {},
     "output_type": "execute_result"
    }
   ],
   "source": [
    "linear.model_summary()"
   ]
  },
  {
   "cell_type": "code",
   "execution_count": 10,
   "metadata": {},
   "outputs": [],
   "source": [
    "#GLM Gamma family with log-link\n",
    "glm = GLM(X,y)"
   ]
  },
  {
   "cell_type": "code",
   "execution_count": 11,
   "metadata": {},
   "outputs": [
    {
     "data": {
      "text/plain": [
       "0.1383240647402594"
      ]
     },
     "execution_count": 11,
     "metadata": {},
     "output_type": "execute_result"
    }
   ],
   "source": [
    "glm.cv_mse(5)"
   ]
  },
  {
   "cell_type": "code",
   "execution_count": 12,
   "metadata": {},
   "outputs": [
    {
     "data": {
      "image/png": "[encoded data removed]",
      "text/plain": [
       "<Figure size 432x288 with 1 Axes>"
      ]
     },
     "metadata": {
      "needs_background": "light"
     },
     "output_type": "display_data"
    }
   ],
   "source": [
    "glm.resid_scatter(X,y)"
   ]
  },
  {
   "cell_type": "code",
   "execution_count": 13,
   "metadata": {
    "scrolled": false
   },
   "outputs": [
    {
     "data": {
      "text/html": [
       "<table class=\"simpletable\">\n",
       "<caption>Generalized Linear Model Regression Results</caption>\n",
       "<tr>\n",
       "  <th>Dep. Variable:</th>      <td>SalePrice</td>    <th>  No. Observations:  </th>   <td>401125</td>   \n",
       "</tr>\n",
       "<tr>\n",
       "  <th>Model:</th>                 <td>GLM</td>       <th>  Df Residuals:      </th>   <td>401073</td>   \n",
       "</tr>\n",
       "<tr>\n",
       "  <th>Model Family:</th>         <td>Gamma</td>      <th>  Df Model:          </th>   <td>    51</td>   \n",
       "</tr>\n",
       "<tr>\n",
       "  <th>Link Function:</th>         <td>log</td>       <th>  Scale:             </th>  <td> 0.14448</td>  \n",
       "</tr>\n",
       "<tr>\n",
       "  <th>Method:</th>               <td>IRLS</td>       <th>  Log-Likelihood:    </th> <td>-4.2367e+06</td>\n",
       "</tr>\n",
       "<tr>\n",
       "  <th>Date:</th>           <td>Mon, 04 Mar 2019</td> <th>  Deviance:          </th>  <td>  57418.</td>  \n",
       "</tr>\n",
       "<tr>\n",
       "  <th>Time:</th>               <td>16:30:31</td>     <th>  Pearson chi2:      </th>  <td>5.79e+04</td>  \n",
       "</tr>\n",
       "<tr>\n",
       "  <th>No. Iterations:</th>        <td>24</td>        <th>  Covariance Type:   </th>  <td>nonrobust</td> \n",
       "</tr>\n",
       "</table>\n",
       "<table class=\"simpletable\">\n",
       "<tr>\n",
       "                <td></td>                  <th>coef</th>     <th>std err</th>      <th>z</th>      <th>P>|z|</th>  <th>[0.025</th>    <th>0.975]</th>  \n",
       "</tr>\n",
       "<tr>\n",
       "  <th>const</th>                        <td>   10.6129</td> <td>    0.021</td> <td>  509.352</td> <td> 0.000</td> <td>   10.572</td> <td>   10.654</td>\n",
       "</tr>\n",
       "<tr>\n",
       "  <th>Conventional</th>                 <td>   -0.0590</td> <td>    0.004</td> <td>  -13.676</td> <td> 0.000</td> <td>   -0.067</td> <td>   -0.051</td>\n",
       "</tr>\n",
       "<tr>\n",
       "  <th>PAT</th>                          <td>   -0.2128</td> <td>    0.004</td> <td>  -52.442</td> <td> 0.000</td> <td>   -0.221</td> <td>   -0.205</td>\n",
       "</tr>\n",
       "<tr>\n",
       "  <th>None or Unspecified</th>          <td>   -0.1772</td> <td>    0.005</td> <td>  -37.670</td> <td> 0.000</td> <td>   -0.186</td> <td>   -0.168</td>\n",
       "</tr>\n",
       "<tr>\n",
       "  <th>Straight</th>                     <td>   -0.1150</td> <td>    0.004</td> <td>  -26.255</td> <td> 0.000</td> <td>   -0.124</td> <td>   -0.106</td>\n",
       "</tr>\n",
       "<tr>\n",
       "  <th>Rubber</th>                       <td>    0.7596</td> <td>    0.010</td> <td>   75.546</td> <td> 0.000</td> <td>    0.740</td> <td>    0.779</td>\n",
       "</tr>\n",
       "<tr>\n",
       "  <th>Steel</th>                        <td>    0.8948</td> <td>    0.009</td> <td>   96.587</td> <td> 0.000</td> <td>    0.877</td> <td>    0.913</td>\n",
       "</tr>\n",
       "<tr>\n",
       "  <th>20.5</th>                         <td>   -0.0420</td> <td>    0.004</td> <td>  -11.778</td> <td> 0.000</td> <td>   -0.049</td> <td>   -0.035</td>\n",
       "</tr>\n",
       "<tr>\n",
       "  <th>Standard</th>                     <td>    0.1071</td> <td>    0.003</td> <td>   35.353</td> <td> 0.000</td> <td>    0.101</td> <td>    0.113</td>\n",
       "</tr>\n",
       "<tr>\n",
       "  <th>Extended</th>                     <td>   -0.5068</td> <td>    0.380</td> <td>   -1.333</td> <td> 0.182</td> <td>   -1.252</td> <td>    0.238</td>\n",
       "</tr>\n",
       "<tr>\n",
       "  <th>Standard</th>                     <td>   -0.5633</td> <td>    0.380</td> <td>   -1.482</td> <td> 0.138</td> <td>   -1.308</td> <td>    0.182</td>\n",
       "</tr>\n",
       "<tr>\n",
       "  <th>All Wheel Drive</th>              <td>    1.0874</td> <td>    0.020</td> <td>   53.796</td> <td> 0.000</td> <td>    1.048</td> <td>    1.127</td>\n",
       "</tr>\n",
       "<tr>\n",
       "  <th>Four Wheel Drive</th>             <td>    0.4018</td> <td>    0.380</td> <td>    1.057</td> <td> 0.291</td> <td>   -0.344</td> <td>    1.147</td>\n",
       "</tr>\n",
       "<tr>\n",
       "  <th>No</th>                           <td>    1.1458</td> <td>    0.016</td> <td>   71.937</td> <td> 0.000</td> <td>    1.115</td> <td>    1.177</td>\n",
       "</tr>\n",
       "<tr>\n",
       "  <th>Two Wheel Drive</th>              <td>    0.2396</td> <td>    0.380</td> <td>    0.630</td> <td> 0.529</td> <td>   -0.506</td> <td>    0.985</td>\n",
       "</tr>\n",
       "<tr>\n",
       "  <th>product_class_Backhoe_Loader</th> <td>    0.0817</td> <td>    0.003</td> <td>   27.519</td> <td> 0.000</td> <td>    0.076</td> <td>    0.088</td>\n",
       "</tr>\n",
       "<tr>\n",
       "  <th>Compact</th>                      <td>   -0.4883</td> <td>    0.005</td> <td>  -89.768</td> <td> 0.000</td> <td>   -0.499</td> <td>   -0.478</td>\n",
       "</tr>\n",
       "<tr>\n",
       "  <th>Large</th>                        <td>    0.6791</td> <td>    0.004</td> <td>  181.946</td> <td> 0.000</td> <td>    0.672</td> <td>    0.686</td>\n",
       "</tr>\n",
       "<tr>\n",
       "  <th>Large / Medium</th>               <td>    0.4007</td> <td>    0.009</td> <td>   43.893</td> <td> 0.000</td> <td>    0.383</td> <td>    0.419</td>\n",
       "</tr>\n",
       "<tr>\n",
       "  <th>Medium</th>                       <td>    0.4631</td> <td>    0.002</td> <td>  189.391</td> <td> 0.000</td> <td>    0.458</td> <td>    0.468</td>\n",
       "</tr>\n",
       "<tr>\n",
       "  <th>Mini</th>                         <td>   -0.6321</td> <td>    0.009</td> <td>  -66.760</td> <td> 0.000</td> <td>   -0.651</td> <td>   -0.614</td>\n",
       "</tr>\n",
       "<tr>\n",
       "  <th>Small</th>                        <td>    0.0344</td> <td>    0.009</td> <td>    3.725</td> <td> 0.000</td> <td>    0.016</td> <td>    0.053</td>\n",
       "</tr>\n",
       "<tr>\n",
       "  <th>Tennessee</th>                    <td>    0.0008</td> <td>    0.004</td> <td>    0.203</td> <td> 0.839</td> <td>   -0.007</td> <td>    0.009</td>\n",
       "</tr>\n",
       "<tr>\n",
       "  <th>Pennsylvania</th>                 <td>   -0.0548</td> <td>    0.004</td> <td>  -13.680</td> <td> 0.000</td> <td>   -0.063</td> <td>   -0.047</td>\n",
       "</tr>\n",
       "<tr>\n",
       "  <th>South Carolina</th>               <td>   -0.0096</td> <td>    0.004</td> <td>   -2.403</td> <td> 0.016</td> <td>   -0.018</td> <td>   -0.002</td>\n",
       "</tr>\n",
       "<tr>\n",
       "  <th>Illinois</th>                     <td>    0.0260</td> <td>    0.004</td> <td>    6.888</td> <td> 0.000</td> <td>    0.019</td> <td>    0.033</td>\n",
       "</tr>\n",
       "<tr>\n",
       "  <th>New Jersey</th>                   <td>    0.0505</td> <td>    0.004</td> <td>   13.162</td> <td> 0.000</td> <td>    0.043</td> <td>    0.058</td>\n",
       "</tr>\n",
       "<tr>\n",
       "  <th>North Carolina</th>               <td>   -0.0240</td> <td>    0.004</td> <td>   -6.134</td> <td> 0.000</td> <td>   -0.032</td> <td>   -0.016</td>\n",
       "</tr>\n",
       "<tr>\n",
       "  <th>Mississippi</th>                  <td>    0.0117</td> <td>    0.004</td> <td>    3.312</td> <td> 0.001</td> <td>    0.005</td> <td>    0.019</td>\n",
       "</tr>\n",
       "<tr>\n",
       "  <th>Ohio</th>                         <td>    0.0116</td> <td>    0.004</td> <td>    3.189</td> <td> 0.001</td> <td>    0.004</td> <td>    0.019</td>\n",
       "</tr>\n",
       "<tr>\n",
       "  <th>Colorado</th>                     <td>    0.0240</td> <td>    0.004</td> <td>    6.344</td> <td> 0.000</td> <td>    0.017</td> <td>    0.031</td>\n",
       "</tr>\n",
       "<tr>\n",
       "  <th>Washington</th>                   <td>    0.0019</td> <td>    0.003</td> <td>    0.595</td> <td> 0.552</td> <td>   -0.004</td> <td>    0.008</td>\n",
       "</tr>\n",
       "<tr>\n",
       "  <th>Georgia</th>                      <td>   -0.0394</td> <td>    0.003</td> <td>  -11.595</td> <td> 0.000</td> <td>   -0.046</td> <td>   -0.033</td>\n",
       "</tr>\n",
       "<tr>\n",
       "  <th>Maryland</th>                     <td>   -0.0452</td> <td>    0.004</td> <td>  -12.795</td> <td> 0.000</td> <td>   -0.052</td> <td>   -0.038</td>\n",
       "</tr>\n",
       "<tr>\n",
       "  <th>Florida</th>                      <td>    0.0651</td> <td>    0.002</td> <td>   34.092</td> <td> 0.000</td> <td>    0.061</td> <td>    0.069</td>\n",
       "</tr>\n",
       "<tr>\n",
       "  <th>Texas</th>                        <td>    0.0277</td> <td>    0.002</td> <td>   13.579</td> <td> 0.000</td> <td>    0.024</td> <td>    0.032</td>\n",
       "</tr>\n",
       "<tr>\n",
       "  <th>California</th>                   <td>    0.0392</td> <td>    0.003</td> <td>   15.413</td> <td> 0.000</td> <td>    0.034</td> <td>    0.044</td>\n",
       "</tr>\n",
       "<tr>\n",
       "  <th>EROPS w AC</th>                   <td>    0.2107</td> <td>    0.023</td> <td>    9.096</td> <td> 0.000</td> <td>    0.165</td> <td>    0.256</td>\n",
       "</tr>\n",
       "<tr>\n",
       "  <th>OROPS</th>                        <td>   -0.1567</td> <td>    0.023</td> <td>   -6.758</td> <td> 0.000</td> <td>   -0.202</td> <td>   -0.111</td>\n",
       "</tr>\n",
       "<tr>\n",
       "  <th>EROPS</th>                        <td>   -0.0092</td> <td>    0.023</td> <td>   -0.395</td> <td> 0.693</td> <td>   -0.055</td> <td>    0.036</td>\n",
       "</tr>\n",
       "<tr>\n",
       "  <th>2 Valve</th>                      <td>    0.3146</td> <td>    0.012</td> <td>   27.109</td> <td> 0.000</td> <td>    0.292</td> <td>    0.337</td>\n",
       "</tr>\n",
       "<tr>\n",
       "  <th>Standard</th>                     <td>   -0.7300</td> <td>    0.011</td> <td>  -63.942</td> <td> 0.000</td> <td>   -0.752</td> <td>   -0.708</td>\n",
       "</tr>\n",
       "<tr>\n",
       "  <th>Auxiliary</th>                    <td>   -0.7504</td> <td>    0.011</td> <td>  -65.295</td> <td> 0.000</td> <td>   -0.773</td> <td>   -0.728</td>\n",
       "</tr>\n",
       "<tr>\n",
       "  <th>Base + 1 Function</th>            <td>   -0.2400</td> <td>    0.014</td> <td>  -17.759</td> <td> 0.000</td> <td>   -0.267</td> <td>   -0.214</td>\n",
       "</tr>\n",
       "<tr>\n",
       "  <th>3 Valve</th>                      <td>    0.3915</td> <td>    0.013</td> <td>   30.956</td> <td> 0.000</td> <td>    0.367</td> <td>    0.416</td>\n",
       "</tr>\n",
       "<tr>\n",
       "  <th>4 Valve</th>                      <td>    0.3813</td> <td>    0.013</td> <td>   28.662</td> <td> 0.000</td> <td>    0.355</td> <td>    0.407</td>\n",
       "</tr>\n",
       "<tr>\n",
       "  <th>High</th>                         <td>    0.0449</td> <td>    0.004</td> <td>   12.305</td> <td> 0.000</td> <td>    0.038</td> <td>    0.052</td>\n",
       "</tr>\n",
       "<tr>\n",
       "  <th>Low</th>                          <td>    0.0258</td> <td>    0.003</td> <td>    9.771</td> <td> 0.000</td> <td>    0.021</td> <td>    0.031</td>\n",
       "</tr>\n",
       "<tr>\n",
       "  <th>Medium</th>                       <td>    0.0629</td> <td>    0.002</td> <td>   27.403</td> <td> 0.000</td> <td>    0.058</td> <td>    0.067</td>\n",
       "</tr>\n",
       "<tr>\n",
       "  <th>Age</th>                          <td>   -0.0723</td> <td>    0.000</td> <td> -337.491</td> <td> 0.000</td> <td>   -0.073</td> <td>   -0.072</td>\n",
       "</tr>\n",
       "<tr>\n",
       "  <th>Age_sq</th>                       <td>    0.0008</td> <td> 5.45e-06</td> <td>  153.374</td> <td> 0.000</td> <td>    0.001</td> <td>    0.001</td>\n",
       "</tr>\n",
       "<tr>\n",
       "  <th>machine_hrs</th>                  <td>   -0.0343</td> <td>    0.002</td> <td>  -20.892</td> <td> 0.000</td> <td>   -0.038</td> <td>   -0.031</td>\n",
       "</tr>\n",
       "</table>"
      ],
      "text/plain": [
       "<class 'statsmodels.iolib.summary.Summary'>\n",
       "\"\"\"\n",
       "                 Generalized Linear Model Regression Results                  \n",
       "==============================================================================\n",
       "Dep. Variable:              SalePrice   No. Observations:               401125\n",
       "Model:                            GLM   Df Residuals:                   401073\n",
       "Model Family:                   Gamma   Df Model:                           51\n",
       "Link Function:                    log   Scale:                         0.14448\n",
       "Method:                          IRLS   Log-Likelihood:            -4.2367e+06\n",
       "Date:                Mon, 04 Mar 2019   Deviance:                       57418.\n",
       "Time:                        16:30:31   Pearson chi2:                 5.79e+04\n",
       "No. Iterations:                    24   Covariance Type:             nonrobust\n",
       "================================================================================================\n",
       "                                   coef    std err          z      P>|z|      [0.025      0.975]\n",
       "------------------------------------------------------------------------------------------------\n",
       "const                           10.6129      0.021    509.352      0.000      10.572      10.654\n",
       "Conventional                    -0.0590      0.004    -13.676      0.000      -0.067      -0.051\n",
       "PAT                             -0.2128      0.004    -52.442      0.000      -0.221      -0.205\n",
       "None or Unspecified             -0.1772      0.005    -37.670      0.000      -0.186      -0.168\n",
       "Straight                        -0.1150      0.004    -26.255      0.000      -0.124      -0.106\n",
       "Rubber                           0.7596      0.010     75.546      0.000       0.740       0.779\n",
       "Steel                            0.8948      0.009     96.587      0.000       0.877       0.913\n",
       "20.5                            -0.0420      0.004    -11.778      0.000      -0.049      -0.035\n",
       "Standard                         0.1071      0.003     35.353      0.000       0.101       0.113\n",
       "Extended                        -0.5068      0.380     -1.333      0.182      -1.252       0.238\n",
       "Standard                        -0.5633      0.380     -1.482      0.138      -1.308       0.182\n",
       "All Wheel Drive                  1.0874      0.020     53.796      0.000       1.048       1.127\n",
       "Four Wheel Drive                 0.4018      0.380      1.057      0.291      -0.344       1.147\n",
       "No                               1.1458      0.016     71.937      0.000       1.115       1.177\n",
       "Two Wheel Drive                  0.2396      0.380      0.630      0.529      -0.506       0.985\n",
       "product_class_Backhoe_Loader     0.0817      0.003     27.519      0.000       0.076       0.088\n",
       "Compact                         -0.4883      0.005    -89.768      0.000      -0.499      -0.478\n",
       "Large                            0.6791      0.004    181.946      0.000       0.672       0.686\n",
       "Large / Medium                   0.4007      0.009     43.893      0.000       0.383       0.419\n",
       "Medium                           0.4631      0.002    189.391      0.000       0.458       0.468\n",
       "Mini                            -0.6321      0.009    -66.760      0.000      -0.651      -0.614\n",
       "Small                            0.0344      0.009      3.725      0.000       0.016       0.053\n",
       "Tennessee                        0.0008      0.004      0.203      0.839      -0.007       0.009\n",
       "Pennsylvania                    -0.0548      0.004    -13.680      0.000      -0.063      -0.047\n",
       "South Carolina                  -0.0096      0.004     -2.403      0.016      -0.018      -0.002\n",
       "Illinois                         0.0260      0.004      6.888      0.000       0.019       0.033\n",
       "New Jersey                       0.0505      0.004     13.162      0.000       0.043       0.058\n",
       "North Carolina                  -0.0240      0.004     -6.134      0.000      -0.032      -0.016\n",
       "Mississippi                      0.0117      0.004      3.312      0.001       0.005       0.019\n",
       "Ohio                             0.0116      0.004      3.189      0.001       0.004       0.019\n",
       "Colorado                         0.0240      0.004      6.344      0.000       0.017       0.031\n",
       "Washington                       0.0019      0.003      0.595      0.552      -0.004       0.008\n",
       "Georgia                         -0.0394      0.003    -11.595      0.000      -0.046      -0.033\n",
       "Maryland                        -0.0452      0.004    -12.795      0.000      -0.052      -0.038\n",
       "Florida                          0.0651      0.002     34.092      0.000       0.061       0.069\n",
       "Texas                            0.0277      0.002     13.579      0.000       0.024       0.032\n",
       "California                       0.0392      0.003     15.413      0.000       0.034       0.044\n",
       "EROPS w AC                       0.2107      0.023      9.096      0.000       0.165       0.256\n",
       "OROPS                           -0.1567      0.023     -6.758      0.000      -0.202      -0.111\n",
       "EROPS                           -0.0092      0.023     -0.395      0.693      -0.055       0.036\n",
       "2 Valve                          0.3146      0.012     27.109      0.000       0.292       0.337\n",
       "Standard                        -0.7300      0.011    -63.942      0.000      -0.752      -0.708\n",
       "Auxiliary                       -0.7504      0.011    -65.295      0.000      -0.773      -0.728\n",
       "Base + 1 Function               -0.2400      0.014    -17.759      0.000      -0.267      -0.214\n",
       "3 Valve                          0.3915      0.013     30.956      0.000       0.367       0.416\n",
       "4 Valve                          0.3813      0.013     28.662      0.000       0.355       0.407\n",
       "High                             0.0449      0.004     12.305      0.000       0.038       0.052\n",
       "Low                              0.0258      0.003      9.771      0.000       0.021       0.031\n",
       "Medium                           0.0629      0.002     27.403      0.000       0.058       0.067\n",
       "Age                             -0.0723      0.000   -337.491      0.000      -0.073      -0.072\n",
       "Age_sq                           0.0008   5.45e-06    153.374      0.000       0.001       0.001\n",
       "machine_hrs                     -0.0343      0.002    -20.892      0.000      -0.038      -0.031\n",
       "================================================================================================\n",
       "\"\"\""
      ]
     },
     "execution_count": 13,
     "metadata": {},
     "output_type": "execute_result"
    }
   ],
   "source": [
    "glm.model_summary()"
   ]
  },
  {
   "cell_type": "code",
   "execution_count": 14,
   "metadata": {},
   "outputs": [],
   "source": [
    "# Predictions Test data\n",
    "X_test=Features().features_clean(Test)\n",
    "\n",
    "Test['SalePrice_glm'] = glm.predict_y(X_test)\n",
    "Test['SalePrice_linear'] = np.exp(linear.predict_y(X_test))"
   ]
  },
  {
   "cell_type": "code",
   "execution_count": 18,
   "metadata": {},
   "outputs": [
    {
     "data": {
      "text/plain": [
       "<matplotlib.legend.Legend at 0x1c1fe55b70>"
      ]
     },
     "execution_count": 18,
     "metadata": {},
     "output_type": "execute_result"
    },
    {
     "data": {
      "image/png": "[encoded data removed]",
      "text/plain": [
       "<Figure size 576x432 with 1 Axes>"
      ]
     },
     "metadata": {
      "needs_background": "light"
     },
     "output_type": "display_data"
    }
   ],
   "source": [
    "#Kernel density estimation\n",
    "kde_linear = scs.gaussian_kde(Test['SalePrice_linear'])\n",
    "kde_glm = scs.gaussian_kde(Test['SalePrice_glm'])\n",
    "\n",
    "xx = np.linspace(0, 100000, 100)\n",
    "fig, ax = plt.subplots(figsize=(8,6))\n",
    "ax.plot(xx, kde_linear(xx), label = 'Predicted Sale Price Linear Regression')\n",
    "ax.plot(xx, kde_glm(xx), label = 'Predicted Sale Price GLM')\n",
    "ax.legend()"
   ]
  },
  {
   "cell_type": "code",
   "execution_count": null,
   "metadata": {},
   "outputs": [],
   "source": []
  }
 ],
 "metadata": {
  "kernelspec": {
   "display_name": "Python 3",
   "language": "python",
   "name": "python3"
  },
  "language_info": {
   "codemirror_mode": {
    "name": "ipython",
    "version": 3
   },
   "file_extension": ".py",
   "mimetype": "text/x-python",
   "name": "python",
   "nbconvert_exporter": "python",
   "pygments_lexer": "ipython3",
   "version": "3.6.7"
  }
 },
 "nbformat": 4,
 "nbformat_minor": 2
}
